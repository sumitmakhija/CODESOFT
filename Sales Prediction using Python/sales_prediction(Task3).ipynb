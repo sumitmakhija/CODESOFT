{
 "cells": [
  {
   "cell_type": "markdown",
   "id": "410c3add",
   "metadata": {},
   "source": [
    "## Sales Prediction using Machine Learning in Python"
   ]
  },
  {
   "cell_type": "markdown",
   "id": "bf11227b",
   "metadata": {},
   "source": [
    "### Loading the Data"
   ]
  },
  {
   "cell_type": "code",
   "execution_count": null,
   "id": "0731bf1f",
   "metadata": {},
   "outputs": [],
   "source": [
    "import pandas as pd\n",
    "\n",
    "# Load the dataset\n",
    "data = pd.read_csv('/mnt/data/advertising.csv')\n",
    "\n",
    "data.head()"
   ]
  },
  {
   "cell_type": "markdown",
   "id": "85b1b333",
   "metadata": {},
   "source": [
    "### Exploratory Data Analysis (EDA)"
   ]
  },
  {
   "cell_type": "code",
   "execution_count": null,
   "id": "e6fe110e",
   "metadata": {},
   "outputs": [],
   "source": [
    "import matplotlib.pyplot as plt\n",
    "import seaborn as sns\n",
    "\n",
    "# Data Summary\n",
    "summary = data.describe()\n",
    "\n",
    "# Check for Missing Values\n",
    "missing_values = data.isnull().sum()\n",
    "\n",
    "# Visualization\n",
    "fig, axes = plt.subplots(nrows=1, ncols=3, figsize=(18, 6))\n",
    "\n",
    "sns.scatterplot(x='TV', y='Sales', data=data, ax=axes[0])\n",
    "axes[0].set_title('TV vs Sales')\n",
    "\n",
    "sns.scatterplot(x='Radio', y='Sales', data=data, ax=axes[1])\n",
    "axes[1].set_title('Radio vs Sales')\n",
    "\n",
    "sns.scatterplot(x='Newspaper', y='Sales', data=data, ax=axes[2])\n",
    "axes[2].set_title('Newspaper vs Sales')\n",
    "\n",
    "plt.tight_layout()\n",
    "plt.show()\n",
    "\n",
    "summary, missing_values"
   ]
  },
  {
   "cell_type": "markdown",
   "id": "249d69ae",
   "metadata": {},
   "source": [
    "### Building a Sales Prediction Model"
   ]
  },
  {
   "cell_type": "code",
   "execution_count": null,
   "id": "3785557b",
   "metadata": {},
   "outputs": [],
   "source": [
    "from sklearn.model_selection import train_test_split\n",
    "\n",
    "# Splitting the data into training and testing sets (80% train, 20% test)\n",
    "X = data[['TV', 'Radio', 'Newspaper']]\n",
    "y = data['Sales']\n",
    "\n",
    "X_train, X_test, y_train, y_test = train_test_split(X, y, test_size=0.2, random_state=42)\n",
    "\n",
    "X_train.shape, X_test.shape"
   ]
  },
  {
   "cell_type": "code",
   "execution_count": null,
   "id": "a4c6573d",
   "metadata": {},
   "outputs": [],
   "source": [
    "from sklearn.linear_model import LinearRegression\n",
    "from sklearn.metrics import mean_squared_error, r2_score\n",
    "\n",
    "# Model Building\n",
    "lm = LinearRegression()\n",
    "lm.fit(X_train, y_train)\n",
    "\n",
    "# Predictions on the test set\n",
    "y_pred = lm.predict(X_test)\n",
    "\n",
    "# Evaluation\n",
    "mse = mean_squared_error(y_test, y_pred)\n",
    "rmse = mse**0.5\n",
    "r2 = r2_score(y_test, y_pred)\n",
    "\n",
    "mse, rmse, r2"
   ]
  },
  {
   "cell_type": "markdown",
   "id": "2e6280ea",
   "metadata": {},
   "source": [
    "### Interpretation of Coefficients"
   ]
  },
  {
   "cell_type": "code",
   "execution_count": null,
   "id": "b1fae431",
   "metadata": {},
   "outputs": [],
   "source": [
    "# Getting the coefficients and intercept\n",
    "coefficients = lm.coef_\n",
    "intercept = lm.intercept_\n",
    "\n",
    "coefficients, intercept"
   ]
  },
  {
   "cell_type": "markdown",
   "id": "3e5f3240",
   "metadata": {},
   "source": [
    "### Residual Analysis"
   ]
  },
  {
   "cell_type": "code",
   "execution_count": null,
   "id": "2505f4d3",
   "metadata": {},
   "outputs": [],
   "source": [
    "\n",
    "import seaborn as sns\n",
    "\n",
    "# Plotting the residuals\n",
    "sns.residplot(y_pred, residuals, lowess=True, line_kws={'color': 'red', 'lw': 1})\n",
    "plt.xlabel('Fitted values')\n",
    "plt.ylabel('Residuals')\n",
    "plt.title('Residuals vs Fitted values')\n",
    "plt.show()\n"
   ]
  },
  {
   "cell_type": "markdown",
   "id": "4140171b",
   "metadata": {},
   "source": [
    "### Feature Engineering"
   ]
  },
  {
   "cell_type": "code",
   "execution_count": null,
   "id": "bb09191e",
   "metadata": {},
   "outputs": [],
   "source": [
    "\n",
    "# Adding interaction terms\n",
    "X_train['TV_Radio'] = X_train['TV'] * X_train['Radio']\n",
    "X_train['TV_Newspaper'] = X_train['TV'] * X_train['Newspaper']\n",
    "X_train['Radio_Newspaper'] = X_train['Radio'] * X_train['Newspaper']\n",
    "\n",
    "X_test['TV_Radio'] = X_test['TV'] * X_test['Radio']\n",
    "X_test['TV_Newspaper'] = X_test['TV'] * X_test['Newspaper']\n",
    "X_test['Radio_Newspaper'] = X_test['Radio'] * X_test['Newspaper']\n",
    "\n",
    "# Retrain the model\n",
    "lm_interaction = LinearRegression()\n",
    "lm_interaction.fit(X_train, y_train)\n",
    "y_pred_interaction = lm_interaction.predict(X_test)\n",
    "\n",
    "# Evaluation\n",
    "mse_interaction = mean_squared_error(y_test, y_pred_interaction)\n",
    "rmse_interaction = mse_interaction**0.5\n",
    "r2_interaction = r2_score(y_test, y_pred_interaction)\n",
    "\n",
    "mse_interaction, rmse_interaction, r2_interaction\n"
   ]
  },
  {
   "cell_type": "markdown",
   "id": "b7b7030a",
   "metadata": {},
   "source": [
    "### Cross-validation"
   ]
  },
  {
   "cell_type": "code",
   "execution_count": null,
   "id": "10aa5af5",
   "metadata": {},
   "outputs": [],
   "source": [
    "\n",
    "from sklearn.model_selection import cross_val_score\n",
    "\n",
    "# Cross-validation\n",
    "scores = cross_val_score(lm_interaction, X_train, y_train, cv=5, scoring='r2')\n",
    "scores.mean(), scores.std()\n"
   ]
  },
  {
   "cell_type": "markdown",
   "id": "5a70be79",
   "metadata": {},
   "source": [
    "### Correlation Analysis"
   ]
  },
  {
   "cell_type": "code",
   "execution_count": null,
   "id": "6aa313b3",
   "metadata": {},
   "outputs": [],
   "source": [
    "\n",
    "# Correlation Analysis\n",
    "correlation_matrix = X_train.corr()\n",
    "correlation_matrix\n"
   ]
  },
  {
   "cell_type": "markdown",
   "id": "74d2ecf9",
   "metadata": {},
   "source": [
    "### Accuracy Check"
   ]
  },
  {
   "cell_type": "code",
   "execution_count": null,
   "id": "f8e1d2c5",
   "metadata": {},
   "outputs": [],
   "source": [
    "\n",
    "from sklearn.metrics import mean_absolute_error\n",
    "\n",
    "# Calculating Mean Absolute Error (MAE)\n",
    "mae = mean_absolute_error(y_test, y_pred_interaction)\n",
    "mae\n"
   ]
  }
 ],
 "metadata": {},
 "nbformat": 4,
 "nbformat_minor": 5
}
